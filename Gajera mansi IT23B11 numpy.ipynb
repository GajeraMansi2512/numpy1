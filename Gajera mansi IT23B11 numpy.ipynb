{
 "cells": [
  {
   "cell_type": "code",
   "execution_count": 1,
   "id": "8c059494",
   "metadata": {},
   "outputs": [],
   "source": [
    "import numpy as np"
   ]
  },
  {
   "cell_type": "code",
   "execution_count": 1,
   "id": "cb2d560f",
   "metadata": {},
   "outputs": [
    {
     "name": "stdout",
     "output_type": "stream",
     "text": [
      "hello MLP\n"
     ]
    }
   ],
   "source": [
    "print(\"hello MLP\")"
   ]
  },
  {
   "cell_type": "code",
   "execution_count": 4,
   "id": "cd779bff",
   "metadata": {},
   "outputs": [
    {
     "name": "stdout",
     "output_type": "stream",
     "text": [
      "[5 2 3 4]\n",
      "[5 2 3 4]\n"
     ]
    }
   ],
   "source": [
    "a=np.array([5,2,3,4])    # print array\n",
    "print(a)\n",
    "a=np.array([5,2,3,4])\n",
    "print(a)"
   ]
  },
  {
   "cell_type": "code",
   "execution_count": 6,
   "id": "81f01b1c",
   "metadata": {},
   "outputs": [
    {
     "name": "stdout",
     "output_type": "stream",
     "text": [
      "array : [5 2 3 4]\n",
      "array a(a)\n",
      "array a:[5 2 3 4]\n"
     ]
    }
   ],
   "source": [
    "print(\"array :\",a)\n",
    "print(f\"array a(a)\")\n",
    "print(\"array a:{}\".format(a))"
   ]
  },
  {
   "cell_type": "code",
   "execution_count": 7,
   "id": "6d26a77f",
   "metadata": {},
   "outputs": [
    {
     "name": "stdout",
     "output_type": "stream",
     "text": [
      "ndim:1\n",
      "size:4\n",
      "shape:(4,)\n",
      "stype:int32\n",
      "itemsize4\n",
      "min 1\n",
      "4\n",
      "(4,)\n",
      "int32\n",
      "4\n"
     ]
    }
   ],
   "source": [
    "print(f\"ndim:{a.ndim}\")    #print min of array\n",
    "print(f\"size:{a.size}\")   # print size of array\n",
    "print(f\"shape:{a.shape}\")   # print shape\n",
    "print(f\"stype:{a.dtype}\")     # type of array\n",
    "print(f\"itemsize{a.itemsize}\")   # number of element in array\n",
    "\n",
    "print(\"min\",a.ndim)\n",
    "print(a.size)\n",
    "print(a.shape)\n",
    "print(a.dtype)\n",
    "print(a.itemsize)"
   ]
  },
  {
   "cell_type": "code",
   "execution_count": 14,
   "id": "b52903c7",
   "metadata": {},
   "outputs": [
    {
     "name": "stdout",
     "output_type": "stream",
     "text": [
      "[[1 2 3]\n",
      " [4 5 6]]\n",
      "[[1 2 3]\n",
      " [4 5 6]]\n"
     ]
    }
   ],
   "source": [
    "b=np.array([[1,2,3],[4,5,6]])\n",
    "print(b)\n",
    "\n",
    "b=np.array([[1,2,3],[4,5,6]])\n",
    "print(b)"
   ]
  },
  {
   "cell_type": "code",
   "execution_count": 16,
   "id": "1f07d7b3",
   "metadata": {},
   "outputs": [
    {
     "name": "stdout",
     "output_type": "stream",
     "text": [
      "[ 5  7  9 11]\n",
      "[ 5  7  9 11]\n"
     ]
    }
   ],
   "source": [
    "b=np.array([4,5,6,7])\n",
    "c=np.add(a,b)     # print addition of two array\n",
    "print(c)\n",
    "\n",
    "print(np.add(a,b))"
   ]
  },
  {
   "cell_type": "code",
   "execution_count": 8,
   "id": "54b16142",
   "metadata": {},
   "outputs": [
    {
     "name": "stdout",
     "output_type": "stream",
     "text": [
      "[ 4 10 18 28]\n"
     ]
    }
   ],
   "source": [
    "b=np.array([4,5,6,7])\n",
    "c=np.multiply(a,b)     # print multiplication of two array\n",
    "print(c)"
   ]
  },
  {
   "cell_type": "code",
   "execution_count": 9,
   "id": "a10b463e",
   "metadata": {},
   "outputs": [
    {
     "name": "stdout",
     "output_type": "stream",
     "text": [
      "[0.25       0.4        0.5        0.57142857]\n"
     ]
    }
   ],
   "source": [
    "b=np.array([4,5,6,7])\n",
    "c=np.divide(a,b)       #print division of two array\n",
    "print(c)"
   ]
  },
  {
   "cell_type": "code",
   "execution_count": 10,
   "id": "f43f49ba",
   "metadata": {},
   "outputs": [
    {
     "name": "stdout",
     "output_type": "stream",
     "text": [
      "[-3 -3 -3 -3]\n"
     ]
    }
   ],
   "source": [
    "b=np.array([4,5,6,7])\n",
    "c=np.subtract(a,b)              #print subtraction of two array\n",
    "print(c)"
   ]
  },
  {
   "cell_type": "code",
   "execution_count": 10,
   "id": "57273df9",
   "metadata": {},
   "outputs": [
    {
     "name": "stdout",
     "output_type": "stream",
     "text": [
      "[  625    32   729 16384]\n"
     ]
    }
   ],
   "source": [
    "b=np.array([4,5,6,7])\n",
    "c=np.power(a,b)               # print reminder of a two array\n",
    "print(c)"
   ]
  },
  {
   "cell_type": "code",
   "execution_count": 8,
   "id": "ad10dfac",
   "metadata": {},
   "outputs": [
    {
     "name": "stdout",
     "output_type": "stream",
     "text": [
      "[5 2 3 4]\n"
     ]
    }
   ],
   "source": [
    "b=np.array([4,5,6,7])\n",
    "c=np.abs(a,b)                 #print absolute of two array\n",
    "print(c)"
   ]
  },
  {
   "cell_type": "code",
   "execution_count": 52,
   "id": "4df81446",
   "metadata": {},
   "outputs": [
    {
     "name": "stdout",
     "output_type": "stream",
     "text": [
      "[1 2 3 4]\n"
     ]
    }
   ],
   "source": [
    "b=np.array([4,5,6,7])\n",
    "c=np.mod(a,b)         #print modulo of array\n",
    "print(c)"
   ]
  },
  {
   "cell_type": "code",
   "execution_count": 15,
   "id": "c5fadbdf",
   "metadata": {},
   "outputs": [
    {
     "name": "stdout",
     "output_type": "stream",
     "text": [
      "['mansi' 'liza']\n"
     ]
    }
   ],
   "source": [
    "e=np.array(['mansi','liza'])     #print array\n",
    "print(e)"
   ]
  },
  {
   "cell_type": "code",
   "execution_count": 17,
   "id": "3520ab31",
   "metadata": {},
   "outputs": [
    {
     "name": "stdout",
     "output_type": "stream",
     "text": [
      "[[0. 0. 0.]\n",
      " [0. 0. 0.]]\n",
      "[[0. 0. 0. 0.]\n",
      " [0. 0. 0. 0.]\n",
      " [0. 0. 0. 0.]]\n"
     ]
    }
   ],
   "source": [
    "z=np.zeros((2,3))             # print array that contain zero\n",
    "print(z)\n",
    "\n",
    "z=np.zeros([3,4])\n",
    "print(z)"
   ]
  },
  {
   "cell_type": "code",
   "execution_count": 21,
   "id": "e7d24381",
   "metadata": {},
   "outputs": [
    {
     "name": "stdout",
     "output_type": "stream",
     "text": [
      "[[1. 1. 1.]\n",
      " [1. 1. 1.]\n",
      " [1. 1. 1.]]\n"
     ]
    }
   ],
   "source": [
    "one=np.ones((3,3))           # print array that contain only one\n",
    "print(one)"
   ]
  },
  {
   "cell_type": "code",
   "execution_count": 5,
   "id": "c6f8205f",
   "metadata": {},
   "outputs": [
    {
     "name": "stdout",
     "output_type": "stream",
     "text": [
      "[[2.12199579e-314 4.67296746e-307]\n",
      " [5.43472210e-321 7.21478569e-312]]\n"
     ]
    }
   ],
   "source": [
    "empty=np.empty((2,2))\n",
    "print(empty)"
   ]
  },
  {
   "cell_type": "code",
   "execution_count": 27,
   "id": "603a75cc",
   "metadata": {},
   "outputs": [
    {
     "name": "stdout",
     "output_type": "stream",
     "text": [
      "[[2 3 5]\n",
      " [5 6 7]]\n",
      "7\n",
      "6\n"
     ]
    }
   ],
   "source": [
    "a=np.array([[2,3,5],[5,6,7]])\n",
    "print(a)\n",
    "sliced_arr=a[1,2]                #print the element of given index\n",
    "print(sliced_arr)\n",
    "\n",
    "ab=a[1,1]\n",
    "print(ab)"
   ]
  },
  {
   "cell_type": "code",
   "execution_count": 37,
   "id": "08f383b3",
   "metadata": {},
   "outputs": [
    {
     "name": "stdout",
     "output_type": "stream",
     "text": [
      "[5 3] indexed\n",
      "[5 6]\n"
     ]
    }
   ],
   "source": [
    "indexed_arr=a[[1,0],[0,1]]          # print index of array\n",
    "print(indexed_arr,\"indexed\")\n",
    "\n",
    "ar=a[[1,1],[0,1]]\n",
    "print(ar)"
   ]
  },
  {
   "cell_type": "code",
   "execution_count": 38,
   "id": "37235f49",
   "metadata": {},
   "outputs": [
    {
     "name": "stdout",
     "output_type": "stream",
     "text": [
      "28\n"
     ]
    }
   ],
   "source": [
    "print(a.sum())               # print the sum of element in the array"
   ]
  },
  {
   "cell_type": "code",
   "execution_count": 3,
   "id": "4ebb9b30",
   "metadata": {},
   "outputs": [
    {
     "name": "stdout",
     "output_type": "stream",
     "text": [
      "[5.         6.70820393 7.07106781]\n"
     ]
    }
   ],
   "source": [
    "a1=np.array([25,45,50])\n",
    "print(np.sqrt(a1))              #print the squre of element in the array"
   ]
  },
  {
   "cell_type": "code",
   "execution_count": 6,
   "id": "1f957f65",
   "metadata": {},
   "outputs": [
    {
     "name": "stdout",
     "output_type": "stream",
     "text": [
      "3\n"
     ]
    }
   ],
   "source": [
    "e=np.size(['mansi','vraj','liza'])          # print the size of array\n",
    "print(e)"
   ]
  },
  {
   "cell_type": "code",
   "execution_count": 14,
   "id": "a50435b9",
   "metadata": {},
   "outputs": [
    {
     "name": "stdout",
     "output_type": "stream",
     "text": [
      "[1 2 3 4]\n"
     ]
    }
   ],
   "source": [
    "a=np.array([1,2,3,4])\n",
    "print(a)        \n"
   ]
  },
  {
   "cell_type": "code",
   "execution_count": 17,
   "id": "0b2a48a9",
   "metadata": {},
   "outputs": [
    {
     "name": "stdout",
     "output_type": "stream",
     "text": [
      "[6 7 8 9]\n"
     ]
    }
   ],
   "source": [
    "b=a+5\n",
    "print(b)                        #add value in the array"
   ]
  },
  {
   "cell_type": "code",
   "execution_count": 36,
   "id": "dc3bdbbb",
   "metadata": {},
   "outputs": [
    {
     "name": "stdout",
     "output_type": "stream",
     "text": [
      "[[ 35  36  42]\n",
      " [ 86  81  96]\n",
      " [137 126 150]]\n"
     ]
    }
   ],
   "source": [
    "m1=np.array([[1,2,3],[4,5,6],[7,8,9]])\n",
    "m2=np.array([[6,2,3],[4,5,6],[7,8,9]])      # dot use for matrix multiplication\n",
    "m3=np.dot(m1,m2)\n",
    "print(m3)"
   ]
  },
  {
   "cell_type": "code",
   "execution_count": 22,
   "id": "d580529a",
   "metadata": {},
   "outputs": [
    {
     "name": "stdout",
     "output_type": "stream",
     "text": [
      "all() with axis none False\n",
      "all() with axis=0 [False  True False]\n",
      "all() with axis=0 [False False]\n"
     ]
    }
   ],
   "source": [
    "bool=np.array([[True,True,False],[False,True,True]])\n",
    "print(\"all() with axis none\",np.all(bool))          # for and opration all function  \n",
    "print(\"all() with axis=0\",np.all(bool,axis=0))           # zero means column\n",
    "print(\"all() with axis=0\",np.all(bool,axis=1))           # one means row"
   ]
  },
  {
   "cell_type": "code",
   "execution_count": 23,
   "id": "e3febf3f",
   "metadata": {},
   "outputs": [
    {
     "name": "stdout",
     "output_type": "stream",
     "text": [
      "all() with axis none True\n",
      "all() with axis=0 [ True  True  True]\n",
      "all() with axis=0 [ True  True]\n"
     ]
    }
   ],
   "source": [
    "bool=np.array([[True,True,False],[False,True,True]])\n",
    "print(\"all() with axis none\",np.any(bool))           # for or opration any function\n",
    "print(\"all() with axis=0\",np.any(bool,axis=0))\n",
    "print(\"all() with axis=0\",np.any(bool,axis=1))"
   ]
  },
  {
   "cell_type": "code",
   "execution_count": 40,
   "id": "f54f1433",
   "metadata": {},
   "outputs": [
    {
     "name": "stdout",
     "output_type": "stream",
     "text": [
      "[0 1 2 3 4 5 6 7]\n",
      "[[0 1 2 3]\n",
      " [4 5 6 7]]\n",
      "[[5 2]\n",
      " [3 4]]\n"
     ]
    }
   ],
   "source": [
    "a1=np.arange(8)\n",
    "print(a1)                    # arange the array  in sequence with given number\n",
    "re=a1.reshape(2,4)           #reshape the array\n",
    "print(re)\n",
    "re=a.reshape(2,2)\n",
    "print(re)"
   ]
  },
  {
   "cell_type": "code",
   "execution_count": 47,
   "id": "4c934fc4",
   "metadata": {},
   "outputs": [
    {
     "name": "stdout",
     "output_type": "stream",
     "text": [
      "[[1 2 3]\n",
      " [4 5 6]\n",
      " [7 8 9]]\n",
      "[[1 2 3]\n",
      " [4 5 6]\n",
      " [7 8 9]]\n",
      "[[ 30  36  42]\n",
      " [ 66  81  96]\n",
      " [102 126 150]]\n"
     ]
    }
   ],
   "source": [
    "print(m1)\n",
    "print(m2)\n",
    "print(m3)"
   ]
  },
  {
   "cell_type": "code",
   "execution_count": 44,
   "id": "2afac4de",
   "metadata": {},
   "outputs": [
    {
     "name": "stdout",
     "output_type": "stream",
     "text": [
      "[[  1   2   3   6   2   3  35  36  42]\n",
      " [  4   5   6   4   5   6  86  81  96]\n",
      " [  7   8   9   7   8   9 137 126 150]]\n"
     ]
    }
   ],
   "source": [
    "h=np.hstack((m1,m2,m3))          # horizontal stack\n",
    "print(h)"
   ]
  },
  {
   "cell_type": "code",
   "execution_count": 45,
   "id": "ecc34d92",
   "metadata": {},
   "outputs": [
    {
     "name": "stdout",
     "output_type": "stream",
     "text": [
      "[array([[ 1,  2,  3,  6,  2,  3, 35, 36, 42]]), array([[ 4,  5,  6,  4,  5,  6, 86, 81, 96]]), array([[  7,   8,   9,   7,   8,   9, 137, 126, 150]])]\n"
     ]
    }
   ],
   "source": [
    "vsplit=np.vsplit(h,3)\n",
    "print(vsplit)                     # split array vertically"
   ]
  },
  {
   "cell_type": "code",
   "execution_count": 31,
   "id": "cb1352fa",
   "metadata": {},
   "outputs": [
    {
     "name": "stdout",
     "output_type": "stream",
     "text": [
      "[array([[1, 2, 3],\n",
      "       [4, 5, 6],\n",
      "       [7, 8, 9]]), array([[1, 2, 3],\n",
      "       [4, 5, 6],\n",
      "       [7, 8, 9]]), array([[ 30,  36,  42],\n",
      "       [ 66,  81,  96],\n",
      "       [102, 126, 150]])]\n"
     ]
    }
   ],
   "source": [
    "hsplit=np.hsplit(h,3)\n",
    "print(hsplit)                               # split the array horizontally"
   ]
  },
  {
   "cell_type": "code",
   "execution_count": 35,
   "id": "95383382",
   "metadata": {},
   "outputs": [
    {
     "name": "stdout",
     "output_type": "stream",
     "text": [
      "sqrt [4.79583152 6.70820393 8.18535277 9.43398113]\n",
      "exp [9.74480345e+09 3.49342711e+19 1.25236317e+29 4.48961282e+38]\n",
      "sin [-0.8462204   0.85090352 -0.85551998  0.86006941]\n",
      "cos [-0.53283302  0.52532199 -0.5177698   0.51017704]\n",
      "log [3.13549422 3.80666249 4.20469262 4.48863637]\n",
      "sum 224\n",
      "std 24.596747752497688\n"
     ]
    }
   ],
   "source": [
    "arr=np.array([23,45,67,89])\n",
    "print(\"sqrt\",np.sqrt(arr))  # return the squre\n",
    "print(\"exp\",np.exp(arr))   # return the expontential of each element\n",
    "print(\"sin\",np.sin(arr))   # return the sin of element\n",
    "print(\"cos\",np.cos(arr))   # return the cos of element\n",
    "print(\"log\",np.log(arr))   # return the log of element\n",
    "print(\"sum\",np.sum(arr))   # return the sum ofelement in the array\n",
    "print(\"std\",np.std(arr))   # return the standard division of element"
   ]
  },
  {
   "cell_type": "code",
   "execution_count": 50,
   "id": "3f4c46d5",
   "metadata": {},
   "outputs": [
    {
     "name": "stdout",
     "output_type": "stream",
     "text": [
      "random: [0.71279688 0.1339438  0.76579213 0.0455691  0.97525465 0.27124508\n",
      " 0.59154435 0.21227637 0.99156198 0.29129941 0.03246611 0.84602582\n",
      " 0.40041443 0.53129695 0.3790575  0.09896649 0.82963214 0.81928482\n",
      " 0.84060861 0.71362054]\n",
      "\n",
      "rand : [[0.48114524 0.21471756 0.64713049 0.44012096 0.02249865]\n",
      " [0.85562186 0.31711321 0.74384622 0.23890327 0.98183409]\n",
      " [0.7460596  0.98785778 0.355018   0.57495394 0.60890409]]\n",
      "\n",
      "randint : [ 2 87 54  2 22 40 42 23 78 54 96 45 37 79 44 20 31 74 72 66]\n",
      "\n",
      "[5 6 2 7 1 0 8 4 3 9]\n"
     ]
    }
   ],
   "source": [
    "print(\"random: {}\\n\".format(np.random.random(20)))          # print random value\n",
    "print(\"rand : {}\\n\".format(np.random.rand(3,5)))\n",
    "print(\"randint : {}\\n\".format(np.random.randint(0,100,20)))\n",
    "print(np.random.permutation(np.arange(10))) "
   ]
  }
 ],
 "metadata": {
  "kernelspec": {
   "display_name": "Python 3 (ipykernel)",
   "language": "python",
   "name": "python3"
  },
  "language_info": {
   "codemirror_mode": {
    "name": "ipython",
    "version": 3
   },
   "file_extension": ".py",
   "mimetype": "text/x-python",
   "name": "python",
   "nbconvert_exporter": "python",
   "pygments_lexer": "ipython3",
   "version": "3.11.5"
  }
 },
 "nbformat": 4,
 "nbformat_minor": 5
}
